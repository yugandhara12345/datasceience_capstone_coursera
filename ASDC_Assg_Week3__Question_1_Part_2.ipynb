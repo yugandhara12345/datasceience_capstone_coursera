{
  "nbformat": 4,
  "nbformat_minor": 0,
  "metadata": {
    "kernelspec": {
      "display_name": "Python 3",
      "language": "python",
      "name": "python3"
    },
    "language_info": {
      "codemirror_mode": {
        "name": "ipython",
        "version": 3
      },
      "file_extension": ".py",
      "mimetype": "text/x-python",
      "name": "python",
      "nbconvert_exporter": "python",
      "pygments_lexer": "ipython3",
      "version": "3.6.10"
    },
    "colab": {
      "name": "ASDC-Assg_Week3_-Question_1_Part_2.ipynb",
      "provenance": []
    }
  },
  "cells": [
    {
      "cell_type": "markdown",
      "metadata": {
        "id": "O3t9-VfVcAZ-"
      },
      "source": [
        "# Notebook For Capstone Project"
      ]
    },
    {
      "cell_type": "markdown",
      "metadata": {
        "id": "f8PyHeZlcAaA"
      },
      "source": [
        "## Importing Libraries"
      ]
    },
    {
      "cell_type": "code",
      "metadata": {
        "id": "XjA66OW-cAaD"
      },
      "source": [
        "import pandas as pd\n",
        "import numpy as np\n"
      ],
      "execution_count": 2,
      "outputs": []
    },
    {
      "cell_type": "markdown",
      "metadata": {
        "id": "H0wgcvAlcAaD"
      },
      "source": [
        "## Scraping the table from wikipedia "
      ]
    },
    {
      "cell_type": "code",
      "metadata": {
        "colab": {
          "base_uri": "https://localhost:8080/"
        },
        "id": "gwIhuR5ScAaD",
        "outputId": "c645d7ad-395c-49af-c9e7-7125932a9781"
      },
      "source": [
        "dfs = pd.read_html('https://en.wikipedia.org/wiki/List_of_postal_codes_of_Canada:_M')\n",
        "df = dfs[0]\n",
        "df.describe(include =\"all\")\n",
        "df.dtypes"
      ],
      "execution_count": 3,
      "outputs": [
        {
          "output_type": "execute_result",
          "data": {
            "text/plain": [
              "0    object\n",
              "1    object\n",
              "2    object\n",
              "3    object\n",
              "4    object\n",
              "5    object\n",
              "6    object\n",
              "7    object\n",
              "8    object\n",
              "dtype: object"
            ]
          },
          "metadata": {
            "tags": []
          },
          "execution_count": 3
        }
      ]
    },
    {
      "cell_type": "code",
      "metadata": {
        "colab": {
          "base_uri": "https://localhost:8080/"
        },
        "id": "o79svKs7cAaE",
        "outputId": "760e2e2f-703c-44fb-ec06-f8a7f9d891b1"
      },
      "source": [
        "df.shape\n",
        "df.info()"
      ],
      "execution_count": 4,
      "outputs": [
        {
          "output_type": "stream",
          "text": [
            "<class 'pandas.core.frame.DataFrame'>\n",
            "RangeIndex: 20 entries, 0 to 19\n",
            "Data columns (total 9 columns):\n",
            " #   Column  Non-Null Count  Dtype \n",
            "---  ------  --------------  ----- \n",
            " 0   0       20 non-null     object\n",
            " 1   1       20 non-null     object\n",
            " 2   2       20 non-null     object\n",
            " 3   3       20 non-null     object\n",
            " 4   4       20 non-null     object\n",
            " 5   5       20 non-null     object\n",
            " 6   6       20 non-null     object\n",
            " 7   7       20 non-null     object\n",
            " 8   8       20 non-null     object\n",
            "dtypes: object(9)\n",
            "memory usage: 1.5+ KB\n"
          ],
          "name": "stdout"
        }
      ]
    },
    {
      "cell_type": "code",
      "metadata": {
        "colab": {
          "base_uri": "https://localhost:8080/",
          "height": 694
        },
        "id": "9uZbza4ycAaF",
        "outputId": "48d6187e-bdce-4b37-dc37-fb3d5626db65"
      },
      "source": [
        "df.head(12)"
      ],
      "execution_count": 5,
      "outputs": [
        {
          "output_type": "execute_result",
          "data": {
            "text/html": [
              "<div>\n",
              "<style scoped>\n",
              "    .dataframe tbody tr th:only-of-type {\n",
              "        vertical-align: middle;\n",
              "    }\n",
              "\n",
              "    .dataframe tbody tr th {\n",
              "        vertical-align: top;\n",
              "    }\n",
              "\n",
              "    .dataframe thead th {\n",
              "        text-align: right;\n",
              "    }\n",
              "</style>\n",
              "<table border=\"1\" class=\"dataframe\">\n",
              "  <thead>\n",
              "    <tr style=\"text-align: right;\">\n",
              "      <th></th>\n",
              "      <th>0</th>\n",
              "      <th>1</th>\n",
              "      <th>2</th>\n",
              "      <th>3</th>\n",
              "      <th>4</th>\n",
              "      <th>5</th>\n",
              "      <th>6</th>\n",
              "      <th>7</th>\n",
              "      <th>8</th>\n",
              "    </tr>\n",
              "  </thead>\n",
              "  <tbody>\n",
              "    <tr>\n",
              "      <th>0</th>\n",
              "      <td>M1ANot assigned</td>\n",
              "      <td>M2ANot assigned</td>\n",
              "      <td>M3ANorth York(Parkwoods)</td>\n",
              "      <td>M4ANorth York(Victoria Village)</td>\n",
              "      <td>M5ADowntown Toronto(Regent Park / Harbourfront)</td>\n",
              "      <td>M6ANorth York(Lawrence Manor / Lawrence Heights)</td>\n",
              "      <td>M7AQueen's Park(Ontario Provincial Government)</td>\n",
              "      <td>M8ANot assigned</td>\n",
              "      <td>M9AEtobicoke(Islington Avenue)</td>\n",
              "    </tr>\n",
              "    <tr>\n",
              "      <th>1</th>\n",
              "      <td>M1BScarborough(Malvern / Rouge)</td>\n",
              "      <td>M2BNot assigned</td>\n",
              "      <td>M3BNorth York(Don Mills)North</td>\n",
              "      <td>M4BEast York(Parkview Hill / Woodbine Gardens)</td>\n",
              "      <td>M5BDowntown Toronto(Garden District, Ryerson)</td>\n",
              "      <td>M6BNorth York(Glencairn)</td>\n",
              "      <td>M7BNot assigned</td>\n",
              "      <td>M8BNot assigned</td>\n",
              "      <td>M9BEtobicoke(West Deane Park / Princess Garden...</td>\n",
              "    </tr>\n",
              "    <tr>\n",
              "      <th>2</th>\n",
              "      <td>M1CScarborough(Rouge Hill / Port Union / Highl...</td>\n",
              "      <td>M2CNot assigned</td>\n",
              "      <td>M3CNorth York(Don Mills)South(Flemingdon Park)</td>\n",
              "      <td>M4CEast York(Woodbine Heights)</td>\n",
              "      <td>M5CDowntown Toronto(St. James Town)</td>\n",
              "      <td>M6CYork(Humewood-Cedarvale)</td>\n",
              "      <td>M7CNot assigned</td>\n",
              "      <td>M8CNot assigned</td>\n",
              "      <td>M9CEtobicoke(Eringate / Bloordale Gardens / Ol...</td>\n",
              "    </tr>\n",
              "    <tr>\n",
              "      <th>3</th>\n",
              "      <td>M1EScarborough(Guildwood / Morningside / West ...</td>\n",
              "      <td>M2ENot assigned</td>\n",
              "      <td>M3ENot assigned</td>\n",
              "      <td>M4EEast Toronto(The Beaches)</td>\n",
              "      <td>M5EDowntown Toronto(Berczy Park)</td>\n",
              "      <td>M6EYork(Caledonia-Fairbanks)</td>\n",
              "      <td>M7ENot assigned</td>\n",
              "      <td>M8ENot assigned</td>\n",
              "      <td>M9ENot assigned</td>\n",
              "    </tr>\n",
              "    <tr>\n",
              "      <th>4</th>\n",
              "      <td>M1GScarborough(Woburn)</td>\n",
              "      <td>M2GNot assigned</td>\n",
              "      <td>M3GNot assigned</td>\n",
              "      <td>M4GEast York(Leaside)</td>\n",
              "      <td>M5GDowntown Toronto(Central Bay Street)</td>\n",
              "      <td>M6GDowntown Toronto(Christie)</td>\n",
              "      <td>M7GNot assigned</td>\n",
              "      <td>M8GNot assigned</td>\n",
              "      <td>M9GNot assigned</td>\n",
              "    </tr>\n",
              "    <tr>\n",
              "      <th>5</th>\n",
              "      <td>M1HScarborough(Cedarbrae)</td>\n",
              "      <td>M2HNorth York(Hillcrest Village)</td>\n",
              "      <td>M3HNorth York(Bathurst Manor / Wilson Heights ...</td>\n",
              "      <td>M4HEast York(Thorncliffe Park)</td>\n",
              "      <td>M5HDowntown Toronto(Richmond / Adelaide / King)</td>\n",
              "      <td>M6HWest Toronto(Dufferin / Dovercourt Village)</td>\n",
              "      <td>M7HNot assigned</td>\n",
              "      <td>M8HNot assigned</td>\n",
              "      <td>M9HNot assigned</td>\n",
              "    </tr>\n",
              "    <tr>\n",
              "      <th>6</th>\n",
              "      <td>M1JScarborough(Scarborough Village)</td>\n",
              "      <td>M2JNorth York(Fairview / Henry Farm / Oriole)</td>\n",
              "      <td>M3JNorth York(Northwood Park / York University)</td>\n",
              "      <td>M4JEast YorkEast Toronto(The Danforth East)</td>\n",
              "      <td>M5JDowntown Toronto(Harbourfront East / Union ...</td>\n",
              "      <td>M6JWest Toronto(Little Portugal / Trinity)</td>\n",
              "      <td>M7JNot assigned</td>\n",
              "      <td>M8JNot assigned</td>\n",
              "      <td>M9JNot assigned</td>\n",
              "    </tr>\n",
              "    <tr>\n",
              "      <th>7</th>\n",
              "      <td>M1KScarborough(Kennedy Park / Ionview / East B...</td>\n",
              "      <td>M2KNorth York(Bayview Village)</td>\n",
              "      <td>M3KNorth York(Downsview)East (CFB Toronto)</td>\n",
              "      <td>M4KEast Toronto(The Danforth West / Riverdale)</td>\n",
              "      <td>M5KDowntown Toronto(Toronto Dominion Centre / ...</td>\n",
              "      <td>M6KWest Toronto(Brockton / Parkdale Village / ...</td>\n",
              "      <td>M7KNot assigned</td>\n",
              "      <td>M8KNot assigned</td>\n",
              "      <td>M9KNot assigned</td>\n",
              "    </tr>\n",
              "    <tr>\n",
              "      <th>8</th>\n",
              "      <td>M1LScarborough(Golden Mile / Clairlea / Oakridge)</td>\n",
              "      <td>M2LNorth York(York Mills / Silver Hills)</td>\n",
              "      <td>M3LNorth York(Downsview)West</td>\n",
              "      <td>M4LEast Toronto(India Bazaar / The Beaches West)</td>\n",
              "      <td>M5LDowntown Toronto(Commerce Court / Victoria ...</td>\n",
              "      <td>M6LNorth York(North Park / Maple Leaf Park / U...</td>\n",
              "      <td>M7LNot assigned</td>\n",
              "      <td>M8LNot assigned</td>\n",
              "      <td>M9LNorth York(Humber Summit)</td>\n",
              "    </tr>\n",
              "    <tr>\n",
              "      <th>9</th>\n",
              "      <td>M1MScarborough(Cliffside / Cliffcrest / Scarbo...</td>\n",
              "      <td>M2MNorth York(Willowdale / Newtonbrook)</td>\n",
              "      <td>M3MNorth York(Downsview)Central</td>\n",
              "      <td>M4MEast Toronto(Studio District)</td>\n",
              "      <td>M5MNorth York(Bedford Park / Lawrence Manor East)</td>\n",
              "      <td>M6MYork(Del Ray / Mount Dennis / Keelsdale and...</td>\n",
              "      <td>M7MNot assigned</td>\n",
              "      <td>M8MNot assigned</td>\n",
              "      <td>M9MNorth York(Humberlea / Emery)</td>\n",
              "    </tr>\n",
              "    <tr>\n",
              "      <th>10</th>\n",
              "      <td>M1NScarborough(Birch Cliff / Cliffside West)</td>\n",
              "      <td>M2NNorth York(Willowdale)South</td>\n",
              "      <td>M3NNorth York(Downsview)Northwest</td>\n",
              "      <td>M4NCentral Toronto(Lawrence Park)</td>\n",
              "      <td>M5NCentral Toronto(Roselawn)</td>\n",
              "      <td>M6NYork(Runnymede / The Junction North)</td>\n",
              "      <td>M7NNot assigned</td>\n",
              "      <td>M8NNot assigned</td>\n",
              "      <td>M9NYork(Weston)</td>\n",
              "    </tr>\n",
              "    <tr>\n",
              "      <th>11</th>\n",
              "      <td>M1PScarborough(Dorset Park / Wexford Heights /...</td>\n",
              "      <td>M2PNorth York(York Mills West)</td>\n",
              "      <td>M3PNot assigned</td>\n",
              "      <td>M4PCentral Toronto(Davisville North)</td>\n",
              "      <td>M5PCentral Toronto(Forest Hill North &amp; West)</td>\n",
              "      <td>M6PWest Toronto(High Park / The Junction South)</td>\n",
              "      <td>M7PNot assigned</td>\n",
              "      <td>M8PNot assigned</td>\n",
              "      <td>M9PEtobicoke(Westmount)</td>\n",
              "    </tr>\n",
              "  </tbody>\n",
              "</table>\n",
              "</div>"
            ],
            "text/plain": [
              "                                                    0  ...                                                  8\n",
              "0                                     M1ANot assigned  ...                     M9AEtobicoke(Islington Avenue)\n",
              "1                     M1BScarborough(Malvern / Rouge)  ...  M9BEtobicoke(West Deane Park / Princess Garden...\n",
              "2   M1CScarborough(Rouge Hill / Port Union / Highl...  ...  M9CEtobicoke(Eringate / Bloordale Gardens / Ol...\n",
              "3   M1EScarborough(Guildwood / Morningside / West ...  ...                                    M9ENot assigned\n",
              "4                              M1GScarborough(Woburn)  ...                                    M9GNot assigned\n",
              "5                           M1HScarborough(Cedarbrae)  ...                                    M9HNot assigned\n",
              "6                 M1JScarborough(Scarborough Village)  ...                                    M9JNot assigned\n",
              "7   M1KScarborough(Kennedy Park / Ionview / East B...  ...                                    M9KNot assigned\n",
              "8   M1LScarborough(Golden Mile / Clairlea / Oakridge)  ...                       M9LNorth York(Humber Summit)\n",
              "9   M1MScarborough(Cliffside / Cliffcrest / Scarbo...  ...                   M9MNorth York(Humberlea / Emery)\n",
              "10       M1NScarborough(Birch Cliff / Cliffside West)  ...                                    M9NYork(Weston)\n",
              "11  M1PScarborough(Dorset Park / Wexford Heights /...  ...                            M9PEtobicoke(Westmount)\n",
              "\n",
              "[12 rows x 9 columns]"
            ]
          },
          "metadata": {
            "tags": []
          },
          "execution_count": 5
        }
      ]
    },
    {
      "cell_type": "markdown",
      "metadata": {
        "id": "GfsiFcHCcAaF"
      },
      "source": [
        "## Renaming the column to PostalCode"
      ]
    },
    {
      "cell_type": "code",
      "metadata": {
        "colab": {
          "base_uri": "https://localhost:8080/",
          "height": 304
        },
        "id": "m9a_luGAcAaF",
        "outputId": "e5b3900e-2830-43bd-c3bd-78fe873fe1aa"
      },
      "source": [
        "df.rename(columns = {\"Postal code\":\"PostalCode\"}, inplace=True)\n",
        "df.dropna(subset=[\"Borough\"], axis =0 , inplace =True)"
      ],
      "execution_count": 6,
      "outputs": [
        {
          "output_type": "error",
          "ename": "KeyError",
          "evalue": "ignored",
          "traceback": [
            "\u001b[0;31m---------------------------------------------------------------------------\u001b[0m",
            "\u001b[0;31mKeyError\u001b[0m                                  Traceback (most recent call last)",
            "\u001b[0;32m<ipython-input-6-9626e76fa891>\u001b[0m in \u001b[0;36m<module>\u001b[0;34m()\u001b[0m\n\u001b[1;32m      1\u001b[0m \u001b[0mdf\u001b[0m\u001b[0;34m.\u001b[0m\u001b[0mrename\u001b[0m\u001b[0;34m(\u001b[0m\u001b[0mcolumns\u001b[0m \u001b[0;34m=\u001b[0m \u001b[0;34m{\u001b[0m\u001b[0;34m\"Postal code\"\u001b[0m\u001b[0;34m:\u001b[0m\u001b[0;34m\"PostalCode\"\u001b[0m\u001b[0;34m}\u001b[0m\u001b[0;34m,\u001b[0m \u001b[0minplace\u001b[0m\u001b[0;34m=\u001b[0m\u001b[0;32mTrue\u001b[0m\u001b[0;34m)\u001b[0m\u001b[0;34m\u001b[0m\u001b[0;34m\u001b[0m\u001b[0m\n\u001b[0;32m----> 2\u001b[0;31m \u001b[0mdf\u001b[0m\u001b[0;34m.\u001b[0m\u001b[0mdropna\u001b[0m\u001b[0;34m(\u001b[0m\u001b[0msubset\u001b[0m\u001b[0;34m=\u001b[0m\u001b[0;34m[\u001b[0m\u001b[0;34m\"Borough\"\u001b[0m\u001b[0;34m]\u001b[0m\u001b[0;34m,\u001b[0m \u001b[0maxis\u001b[0m \u001b[0;34m=\u001b[0m\u001b[0;36m0\u001b[0m \u001b[0;34m,\u001b[0m \u001b[0minplace\u001b[0m \u001b[0;34m=\u001b[0m\u001b[0;32mTrue\u001b[0m\u001b[0;34m)\u001b[0m\u001b[0;34m\u001b[0m\u001b[0;34m\u001b[0m\u001b[0m\n\u001b[0m",
            "\u001b[0;32m/usr/local/lib/python3.7/dist-packages/pandas/core/frame.py\u001b[0m in \u001b[0;36mdropna\u001b[0;34m(self, axis, how, thresh, subset, inplace)\u001b[0m\n\u001b[1;32m   5002\u001b[0m             \u001b[0mcheck\u001b[0m \u001b[0;34m=\u001b[0m \u001b[0mindices\u001b[0m \u001b[0;34m==\u001b[0m \u001b[0;34m-\u001b[0m\u001b[0;36m1\u001b[0m\u001b[0;34m\u001b[0m\u001b[0;34m\u001b[0m\u001b[0m\n\u001b[1;32m   5003\u001b[0m             \u001b[0;32mif\u001b[0m \u001b[0mcheck\u001b[0m\u001b[0;34m.\u001b[0m\u001b[0many\u001b[0m\u001b[0;34m(\u001b[0m\u001b[0;34m)\u001b[0m\u001b[0;34m:\u001b[0m\u001b[0;34m\u001b[0m\u001b[0;34m\u001b[0m\u001b[0m\n\u001b[0;32m-> 5004\u001b[0;31m                 \u001b[0;32mraise\u001b[0m \u001b[0mKeyError\u001b[0m\u001b[0;34m(\u001b[0m\u001b[0mlist\u001b[0m\u001b[0;34m(\u001b[0m\u001b[0mnp\u001b[0m\u001b[0;34m.\u001b[0m\u001b[0mcompress\u001b[0m\u001b[0;34m(\u001b[0m\u001b[0mcheck\u001b[0m\u001b[0;34m,\u001b[0m \u001b[0msubset\u001b[0m\u001b[0;34m)\u001b[0m\u001b[0;34m)\u001b[0m\u001b[0;34m)\u001b[0m\u001b[0;34m\u001b[0m\u001b[0;34m\u001b[0m\u001b[0m\n\u001b[0m\u001b[1;32m   5005\u001b[0m             \u001b[0magg_obj\u001b[0m \u001b[0;34m=\u001b[0m \u001b[0mself\u001b[0m\u001b[0;34m.\u001b[0m\u001b[0mtake\u001b[0m\u001b[0;34m(\u001b[0m\u001b[0mindices\u001b[0m\u001b[0;34m,\u001b[0m \u001b[0maxis\u001b[0m\u001b[0;34m=\u001b[0m\u001b[0magg_axis\u001b[0m\u001b[0;34m)\u001b[0m\u001b[0;34m\u001b[0m\u001b[0;34m\u001b[0m\u001b[0m\n\u001b[1;32m   5006\u001b[0m \u001b[0;34m\u001b[0m\u001b[0m\n",
            "\u001b[0;31mKeyError\u001b[0m: ['Borough']"
          ]
        }
      ]
    },
    {
      "cell_type": "code",
      "metadata": {
        "id": "Bm-ph6tkcAaG"
      },
      "source": [
        "df.info(12)"
      ],
      "execution_count": null,
      "outputs": []
    },
    {
      "cell_type": "markdown",
      "metadata": {
        "id": "3yyIgHiRcAaG"
      },
      "source": [
        "## Ignoring the cells where borough is Not assigned "
      ]
    },
    {
      "cell_type": "code",
      "metadata": {
        "id": "blUkUHM9cAaH"
      },
      "source": [
        "df1 = df[df.Borough!='Not assigned']\n",
        "df1.head(12)"
      ],
      "execution_count": null,
      "outputs": []
    },
    {
      "cell_type": "code",
      "metadata": {
        "id": "QEX2gRlYcAaH"
      },
      "source": [
        "df1.loc[df1['Neighborhood'] == 'Not assigned', 'Neighborhood'] = df1['Borough']\n",
        "df1.head(12)"
      ],
      "execution_count": null,
      "outputs": []
    },
    {
      "cell_type": "markdown",
      "metadata": {
        "id": "GOt4NNubcAaH"
      },
      "source": [
        "## Combing rows"
      ]
    },
    {
      "cell_type": "code",
      "metadata": {
        "id": "Lwvv-KuZcAaI"
      },
      "source": [
        "df2= df1.groupby(['PostalCode','Borough'], sort=False).agg( ', '.join)\n",
        "df2.head()"
      ],
      "execution_count": null,
      "outputs": []
    },
    {
      "cell_type": "code",
      "metadata": {
        "id": "niqwm7ABcAaI"
      },
      "source": [
        "df2.info()"
      ],
      "execution_count": null,
      "outputs": []
    },
    {
      "cell_type": "code",
      "metadata": {
        "id": "yt0iKNe8cAaI"
      },
      "source": [
        "df2.shape"
      ],
      "execution_count": null,
      "outputs": []
    },
    {
      "cell_type": "code",
      "metadata": {
        "id": "fbARFYRgcAaJ"
      },
      "source": [
        "df3 = df2.reset_index()\n",
        "df3.head()"
      ],
      "execution_count": null,
      "outputs": []
    },
    {
      "cell_type": "code",
      "metadata": {
        "id": "xk182ofdcAaJ"
      },
      "source": [
        "df3.shape"
      ],
      "execution_count": null,
      "outputs": []
    },
    {
      "cell_type": "markdown",
      "metadata": {
        "id": "y37hGUAncAaK"
      },
      "source": [
        "## Using the csv to collect the latitude and longitudes"
      ]
    },
    {
      "cell_type": "code",
      "metadata": {
        "id": "flpaxtnDcAaK"
      },
      "source": [
        "df_geo = pd.read_csv('http://cocl.us/Geospatial_data')\n",
        "df_geo.columns = ['PostalCode', 'Latitude', 'Longitude']\n",
        "df_geo"
      ],
      "execution_count": null,
      "outputs": []
    },
    {
      "cell_type": "markdown",
      "metadata": {
        "id": "0NYzDt__cAaK"
      },
      "source": [
        "## Merging the dataframes"
      ]
    },
    {
      "cell_type": "code",
      "metadata": {
        "id": "qAFgT1UkcAaK"
      },
      "source": [
        "df4 = pd.merge(df3, df_geo, on=['PostalCode'], how='inner')\n",
        "df_loc = df4[['PostalCode', 'Borough', 'Neighborhood','Latitude', 'Longitude']].copy()\n",
        "df_loc.head()"
      ],
      "execution_count": null,
      "outputs": []
    }
  ]
}